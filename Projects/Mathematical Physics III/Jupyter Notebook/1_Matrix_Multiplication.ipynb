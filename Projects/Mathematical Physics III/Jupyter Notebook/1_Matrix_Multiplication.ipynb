{
 "cells": [
  {
   "cell_type": "markdown",
   "id": "17ee2c32",
   "metadata": {},
   "source": [
    "# Matrix Multilpication"
   ]
  },
  {
   "cell_type": "markdown",
   "id": "a1a6afb4",
   "metadata": {},
   "source": [
    "If $A$ is a $m \\times n$ matrix and $B$ is a $n \\times p$ matrix. Then, matrix product $C_{m \\times p} = A_{m \\times n} \\cdot B_{n \\times p}$ is defined as,\n",
    "$$c_{ij} = \\sum_{k=1}^n a_{ik} + b_{kj}$$\n",
    "where, $a_{ij}$, $b_{ij}$, $c_{ij}$ represent individual elements of the matrices $A$, $B$, and $C$ respectively."
   ]
  },
  {
   "cell_type": "code",
   "execution_count": 1,
   "id": "8ccad515-12ff-4f19-b84b-78d5c12203d3",
   "metadata": {},
   "outputs": [],
   "source": [
    "from numpy import array, zeros\n",
    "\n",
    "# Code for performing matrix multiplication\n",
    "def matrix_multiply(A, B):\n",
    "    \n",
    "    # Checking if matrix multiplication is possible \n",
    "    if not A.shape[1] == B.shape[0]:\n",
    "        raise ValueError(\"Matrix multiplication not possible!\")\n",
    "  \n",
    "    # Decalring an empty matrix to store the result\n",
    "    C = zeros((A.shape[0], B.shape[1]))\n",
    "\n",
    "    # Performing matrix multiplication\n",
    "    for i in range(A.shape[0]):\n",
    "        for j in range(B.shape[1]):\n",
    "            for k in range(A.shape[1]):\n",
    "                C[i][j] += (A[i][k] * B[k][j])\n",
    "\n",
    "    return C"
   ]
  },
  {
   "cell_type": "code",
   "execution_count": 2,
   "id": "62327257",
   "metadata": {},
   "outputs": [
    {
     "data": {
      "text/plain": [
       "array([[ 30.,  24.,  18.],\n",
       "       [ 84.,  69.,  54.],\n",
       "       [138., 114.,  90.]])"
      ]
     },
     "execution_count": 2,
     "metadata": {},
     "output_type": "execute_result"
    }
   ],
   "source": [
    "# Declaring two matrices `A` and `B`\n",
    "A = array([[1, 2, 3],\n",
    "           [4, 5, 6],\n",
    "           [7, 8, 9]])\n",
    "\n",
    "B = array([[9, 8, 7],\n",
    "           [6, 5, 4],\n",
    "           [3, 2, 1]])\n",
    "\n",
    "# Performing matrix multipliaction \n",
    "matrix_multiply(A, B)"
   ]
  },
  {
   "cell_type": "code",
   "execution_count": 3,
   "id": "fd41f5e2",
   "metadata": {},
   "outputs": [
    {
     "data": {
      "text/plain": [
       "array([[30., 24.],\n",
       "       [84., 69.]])"
      ]
     },
     "execution_count": 3,
     "metadata": {},
     "output_type": "execute_result"
    }
   ],
   "source": [
    "# Declaring two non square matrices `A` and `B`\n",
    "A = array([[1, 2, 3],\n",
    "           [4, 5, 6]])\n",
    "\n",
    "B = array([[9, 8],\n",
    "           [6, 5],\n",
    "           [3, 2]])\n",
    "\n",
    "# Performing matrix multipliaction between two non square matrices\n",
    "matrix_multiply(A, B)"
   ]
  },
  {
   "cell_type": "code",
   "execution_count": 4,
   "id": "613f1684",
   "metadata": {},
   "outputs": [],
   "source": [
    "from numpy import random\n",
    "\n",
    "# Generating two random matrices `A` and `B`\n",
    "A = random.randint(1, 100, (3, 3))\n",
    "B = random.randint(1, 100, (3, 3))"
   ]
  },
  {
   "cell_type": "code",
   "execution_count": 5,
   "id": "dc0fe0e2",
   "metadata": {},
   "outputs": [
    {
     "data": {
      "text/plain": [
       "array([[ 7, 97, 61],\n",
       "       [36, 10, 66],\n",
       "       [63, 84, 92]])"
      ]
     },
     "execution_count": 5,
     "metadata": {},
     "output_type": "execute_result"
    }
   ],
   "source": [
    "A"
   ]
  },
  {
   "cell_type": "code",
   "execution_count": 6,
   "id": "cdd1e750",
   "metadata": {},
   "outputs": [
    {
     "data": {
      "text/plain": [
       "array([[78, 37,  7],\n",
       "       [96, 38, 61],\n",
       "       [61, 34, 68]])"
      ]
     },
     "execution_count": 6,
     "metadata": {},
     "output_type": "execute_result"
    }
   ],
   "source": [
    "B"
   ]
  },
  {
   "cell_type": "code",
   "execution_count": 7,
   "id": "00819ecd",
   "metadata": {},
   "outputs": [
    {
     "data": {
      "text/plain": [
       "array([[13579.,  6019., 10114.],\n",
       "       [ 7794.,  3956.,  5350.],\n",
       "       [18590.,  8651., 11821.]])"
      ]
     },
     "execution_count": 7,
     "metadata": {},
     "output_type": "execute_result"
    }
   ],
   "source": [
    "# Performing matrix multipliaction between two random matrices\n",
    "matrix_multiply(A, B)"
   ]
  }
 ],
 "metadata": {
  "kernelspec": {
   "display_name": "Python 3 (ipykernel)",
   "language": "python",
   "name": "python3"
  },
  "language_info": {
   "codemirror_mode": {
    "name": "ipython",
    "version": 3
   },
   "file_extension": ".py",
   "mimetype": "text/x-python",
   "name": "python",
   "nbconvert_exporter": "python",
   "pygments_lexer": "ipython3",
   "version": "3.10.8"
  }
 },
 "nbformat": 4,
 "nbformat_minor": 5
}
