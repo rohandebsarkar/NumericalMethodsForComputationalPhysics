{
 "cells": [
  {
   "cell_type": "markdown",
   "metadata": {},
   "source": [
    "# Ising Model\n",
    "\n",
    "The Ising model is a mathematical model used in statistical mechanics to study phase transitions in physical systems, particularly in magnetism. It was proposed by the physicist Ernst Ising in 1925 to describe the behavior of magnetic spins in a lattice.\n",
    "\n",
    "In the Ising model, each lattice site can be in one of two states, typically represented as \"up\" or \"down\" spins. The interactions between neighboring spins are taken into account, described by an energy function that depends on the alignment of neighboring spins. When spins are aligned, the energy is lowered, while misaligned spins increase the energy.\n",
    "\n",
    "The energy function (hamiltonian) is given by,\n",
    "\n",
    "$$H = - J \\sum\\limits_i s_i s_{i+1} - h \\sum\\limits_i s_i$$\n",
    "\n",
    "where,\n",
    "\n",
    "$J$ represents a constant specifying the strength of interaction,\n",
    "\n",
    "$h$ represents the magnitude of the external magnetic felid applied,\n",
    "\n",
    "$s_i$ represents the spin of the $i^{th}$ lattice point"
   ]
  },
  {
   "cell_type": "markdown",
   "metadata": {},
   "source": [
    "## Lattice configurations\n",
    "\n",
    "1D Lattice structure with 4 lattice points: \n",
    "$$\\boxed{s_0}\\boxed{s_1}\\boxed{s_2}\\boxed{s_3}$$\n",
    "where, $s_i \\in \\{+, -\\}$"
   ]
  },
  {
   "cell_type": "markdown",
   "metadata": {},
   "source": [
    "## Energy values for each lattice configuaration\n",
    "\n",
    "$$E_r = \\frac{1}{N} \\left[- J \\sum\\limits_i s_i s_{i+1} - h \\sum\\limits_i s_i \\right]$$"
   ]
  },
  {
   "cell_type": "markdown",
   "metadata": {},
   "source": [
    "For our numerical computation,\n",
    "$J = 1$ and $h = 0.1$"
   ]
  },
  {
   "cell_type": "markdown",
   "metadata": {},
   "source": [
    "## Partition function\n",
    "\n",
    "$$\\mathcal{Z} = \\sum\\limits_r \\exp(- \\beta E_r)$$\n",
    "\n",
    "where, $\\beta = \\frac{1}{k_B T}, k_B = 1$"
   ]
  },
  {
   "cell_type": "markdown",
   "metadata": {},
   "source": [
    "## Probabilities for each lattice configuration\n",
    "\n",
    "$$P_r = \\frac{\\exp(- \\beta E_r)}{\\mathcal{Z}}$$"
   ]
  },
  {
   "cell_type": "markdown",
   "metadata": {},
   "source": [
    "## Average Energy\n",
    "\n",
    "$$\\langle E \\rangle = \\sum\\limits_r E_r P_r$$"
   ]
  },
  {
   "cell_type": "markdown",
   "metadata": {},
   "source": [
    "## Magnetization values for each lattice configuration\n",
    "\n",
    "$$M_r = \\frac{1}{N}\\sum\\limits_i s_i$$"
   ]
  },
  {
   "cell_type": "markdown",
   "metadata": {},
   "source": [
    "## Average magnetization\n",
    "\n",
    "$$\\langle M \\rangle = \\sum\\limits_r M_r P_r$$"
   ]
  }
 ],
 "metadata": {
  "kernelspec": {
   "display_name": "Python 3",
   "language": "python",
   "name": "python3"
  },
  "language_info": {
   "codemirror_mode": {
    "name": "ipython",
    "version": 3
   },
   "file_extension": ".py",
   "mimetype": "text/x-python",
   "name": "python",
   "nbconvert_exporter": "python",
   "pygments_lexer": "ipython3",
   "version": "3.12.2"
  }
 },
 "nbformat": 4,
 "nbformat_minor": 2
}
