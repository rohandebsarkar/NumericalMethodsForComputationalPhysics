{
 "cells": [
  {
   "cell_type": "markdown",
   "id": "17ee2c32",
   "metadata": {},
   "source": [
    "# Matrix Multilpication"
   ]
  },
  {
   "cell_type": "markdown",
   "id": "a1a6afb4",
   "metadata": {},
   "source": [
    "If $A$ is a $m \\times n$ matrix and $B$ is a $n \\times p$ matrix. Then, matrix product $C_{m \\times p} = A_{m \\times n} \\cdot B_{n \\times p}$ is defined as,\n",
    "$$c_{ij} = \\sum_{k=1}^n a_{ik} \\cdot b_{kj}$$\n",
    "where, $a_{ij}$, $b_{ij}$, $c_{ij}$ represent individual elements of the matrices $A$, $B$, and $C$ respectively."
   ]
  },
  {
   "cell_type": "markdown",
   "id": "bc64a977",
   "metadata": {},
   "source": [
    "## Code"
   ]
  },
  {
   "cell_type": "code",
   "execution_count": 1,
   "id": "1cf71772-c56a-49d4-979b-83347b22d2c0",
   "metadata": {},
   "outputs": [],
   "source": [
    "from numpy import array, zeros, random\n"
   ]
  },
  {
   "cell_type": "code",
   "execution_count": 2,
   "id": "8ccad515-12ff-4f19-b84b-78d5c12203d3",
   "metadata": {},
   "outputs": [],
   "source": [
    "# Code for performing matrix multiplication\n",
    "def matrix_multiply(A, B):\n",
    "\n",
    "    # Checking if matrix multiplication is possible\n",
    "    if not A.shape[1] == B.shape[0]:\n",
    "        raise ValueError(\"Matrix multiplication not possible!\")\n",
    "\n",
    "    # Decalring an empty matrix to store the result\n",
    "    C = zeros((A.shape[0], B.shape[1]))\n",
    "\n",
    "    # Performing matrix multiplication\n",
    "    for i in range(A.shape[0]):\n",
    "        for j in range(B.shape[1]):\n",
    "            for k in range(A.shape[1]):\n",
    "                C[i][j] += (A[i][k] * B[k][j])\n",
    "\n",
    "    return C\n"
   ]
  },
  {
   "cell_type": "markdown",
   "id": "920ae5c9-9fba-47e0-9f82-2705fdf3296a",
   "metadata": {},
   "source": [
    "## Examples"
   ]
  },
  {
   "cell_type": "markdown",
   "id": "488b4c77-da25-4ec5-b887-89f2bf1d235d",
   "metadata": {},
   "source": [
    "### $$\\begin{bmatrix} 1 & 2 & 3 \\\\ 4 & 5 & 6 \\\\ 7 & 8 & 9 \\end{bmatrix} \\times \\begin{bmatrix} 9 & 8 & 7 \\\\ 6 & 5 & 4 \\\\ 3 & 2 & 1 \\end{bmatrix}$$"
   ]
  },
  {
   "cell_type": "code",
   "execution_count": 3,
   "id": "62327257",
   "metadata": {},
   "outputs": [
    {
     "data": {
      "text/plain": [
       "array([[ 30.,  24.,  18.],\n",
       "       [ 84.,  69.,  54.],\n",
       "       [138., 114.,  90.]])"
      ]
     },
     "execution_count": 3,
     "metadata": {},
     "output_type": "execute_result"
    }
   ],
   "source": [
    "# Declaring two matrices `A` and `B`\n",
    "A = array([[1, 2, 3],\n",
    "           [4, 5, 6],\n",
    "           [7, 8, 9]])\n",
    "\n",
    "B = array([[9, 8, 7],\n",
    "           [6, 5, 4],\n",
    "           [3, 2, 1]])\n",
    "\n",
    "# Performing matrix multipliaction\n",
    "matrix_multiply(A, B)\n"
   ]
  },
  {
   "cell_type": "markdown",
   "id": "b4bf9400",
   "metadata": {},
   "source": [
    "### $$\\begin{bmatrix} 1 & 2 & 3 \\\\ 4 & 5 & 6 \\end{bmatrix} \\times \\begin{bmatrix} 9 & 8 \\\\ 6 & 5 \\\\ 3 & 2 \\end{bmatrix}$$"
   ]
  },
  {
   "cell_type": "code",
   "execution_count": 4,
   "id": "fd41f5e2",
   "metadata": {
    "tags": []
   },
   "outputs": [
    {
     "data": {
      "text/plain": [
       "array([[30., 24.],\n",
       "       [84., 69.]])"
      ]
     },
     "execution_count": 4,
     "metadata": {},
     "output_type": "execute_result"
    }
   ],
   "source": [
    "# Declaring two non square matrices `A` and `B`\n",
    "A = array([[1, 2, 3],\n",
    "           [4, 5, 6]])\n",
    "\n",
    "B = array([[9, 8],\n",
    "           [6, 5],\n",
    "           [3, 2]])\n",
    "\n",
    "# Performing matrix multipliaction between two non square matrices\n",
    "matrix_multiply(A, B)\n"
   ]
  },
  {
   "cell_type": "markdown",
   "id": "2403309e-546d-4209-b8f0-9e985cba5a56",
   "metadata": {},
   "source": [
    "### Matrix multiplication using two randomly generated matrices"
   ]
  },
  {
   "cell_type": "code",
   "execution_count": 5,
   "id": "613f1684",
   "metadata": {
    "tags": []
   },
   "outputs": [],
   "source": [
    "# Generating two random matrices `A` and `B`\n",
    "A = random.randint(1, 100, (3, 3))\n",
    "B = random.randint(1, 100, (3, 3))\n"
   ]
  },
  {
   "cell_type": "code",
   "execution_count": 6,
   "id": "dc0fe0e2",
   "metadata": {},
   "outputs": [
    {
     "data": {
      "text/plain": [
       "array([[91, 99, 98],\n",
       "       [50, 82, 56],\n",
       "       [98, 77, 92]])"
      ]
     },
     "execution_count": 6,
     "metadata": {},
     "output_type": "execute_result"
    }
   ],
   "source": [
    "A\n"
   ]
  },
  {
   "cell_type": "code",
   "execution_count": 7,
   "id": "cdd1e750",
   "metadata": {},
   "outputs": [
    {
     "data": {
      "text/plain": [
       "array([[95, 30, 68],\n",
       "       [87, 37, 67],\n",
       "       [37, 72, 72]])"
      ]
     },
     "execution_count": 7,
     "metadata": {},
     "output_type": "execute_result"
    }
   ],
   "source": [
    "B\n"
   ]
  },
  {
   "cell_type": "code",
   "execution_count": 8,
   "id": "00819ecd",
   "metadata": {},
   "outputs": [
    {
     "data": {
      "text/plain": [
       "array([[20884., 13449., 19877.],\n",
       "       [13956.,  8566., 12926.],\n",
       "       [19413., 12413., 18447.]])"
      ]
     },
     "execution_count": 8,
     "metadata": {},
     "output_type": "execute_result"
    }
   ],
   "source": [
    "# Performing matrix multipliaction between two random matrices\n",
    "matrix_multiply(A, B)\n"
   ]
  }
 ],
 "metadata": {
  "kernelspec": {
   "display_name": "Python 3",
   "language": "python",
   "name": "python3"
  },
  "language_info": {
   "codemirror_mode": {
    "name": "ipython",
    "version": 3
   },
   "file_extension": ".py",
   "mimetype": "text/x-python",
   "name": "python",
   "nbconvert_exporter": "python",
   "pygments_lexer": "ipython3",
   "version": "3.10.8 (main, Nov  1 2022, 14:18:21) [GCC 12.2.0]"
  },
  "vscode": {
   "interpreter": {
    "hash": "767d51c1340bd893661ea55ea3124f6de3c7a262a8b4abca0554b478b1e2ff90"
   }
  }
 },
 "nbformat": 4,
 "nbformat_minor": 5
}
