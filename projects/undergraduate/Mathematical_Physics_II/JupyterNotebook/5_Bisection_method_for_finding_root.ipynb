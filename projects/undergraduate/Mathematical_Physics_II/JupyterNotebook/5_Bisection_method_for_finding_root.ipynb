{
 "cells": [
  {
   "cell_type": "markdown",
   "metadata": {},
   "source": [
    "# Bisection method for finding roots"
   ]
  },
  {
   "cell_type": "markdown",
   "metadata": {},
   "source": [
    "Bisection method is a root-finding algorithm that could be used to find any one root of a continuous function $f(x)$, which could be evaluated at two points $a$ and $b$ such that,\n",
    "$$f(a) \\cdot f(b) < 0$$\n",
    "\n",
    "![resources/bisection-1.png](resources/bisection-1.png)\n",
    "\n",
    "For the Bisection method to work we would have to provide the function $f(x)$ along with two points $a$ and $b$ for which the function will yeild two values, $f(a)$ and $f(b)$ of opposite signs. Then the Bisection method works by bisecting the inteval $a$ and $b$, and using the midpoint, say $mid = \\frac{a + b}{2}$, as a guess for the root.\n",
    "\n",
    "If the guessed root isn't close enough to zero, then there are two possibilities,\n",
    "$$f(a) \\cdot f(mid) < 0$$ \n",
    "$$f(b) \\cdot f(mid) < 0$$\n",
    "\n",
    "For the first case $b$ shall be shifted to the $mid$, and for the later $a$ shall be shifted at the $mid$.\n",
    "\n",
    "$$\n",
    "\\begin{align}\n",
    "    & b = mid, & if \\quad & f(a) \\cdot f(mid) < 0 \\\\\n",
    "    & a = mid, & if \\quad & f(b) \\cdot f(mid) < 0\n",
    "\\end{align}\n",
    "$$\n",
    "\n",
    "Now the next guess would be the midpoint between the updated $a$ and $b$. This method is to be repeated until a suitable enough guess for the root close to zero has been found. "
   ]
  },
  {
   "cell_type": "markdown",
   "metadata": {},
   "source": [
    "# Code"
   ]
  },
  {
   "cell_type": "code",
   "execution_count": 7,
   "metadata": {},
   "outputs": [],
   "source": [
    "from numpy import e\n"
   ]
  },
  {
   "cell_type": "code",
   "execution_count": 14,
   "metadata": {},
   "outputs": [],
   "source": [
    "def find_root_bisection(f, a, b, tolerance=0.001):\n",
    "\n",
    "    # Evaluating the root\n",
    "    while abs(a - b) > tolerance:\n",
    "\n",
    "        # Evaluating the midpoint\n",
    "        mid = (a + b) / 2\n",
    "\n",
    "        # Updating `a` and `b` as required\n",
    "        if f(a) * f(mid) < 0:\n",
    "            b = mid\n",
    "        elif f(b) * f(mid) < 0:\n",
    "            a = mid\n",
    "\n",
    "    return mid\n"
   ]
  },
  {
   "cell_type": "markdown",
   "metadata": {},
   "source": [
    "### $$x^2 = 2$$\n",
    "$$f(x) = x^2 - 2$$"
   ]
  },
  {
   "cell_type": "code",
   "execution_count": 15,
   "metadata": {},
   "outputs": [
    {
     "data": {
      "text/plain": [
       "1.4150390625"
      ]
     },
     "execution_count": 15,
     "metadata": {},
     "output_type": "execute_result"
    }
   ],
   "source": [
    "def f(x):\n",
    "    return x**2 - 2\n",
    "\n",
    "\n",
    "a = 1\n",
    "b = 5\n",
    "\n",
    "find_root_bisection(f, a, b)\n"
   ]
  },
  {
   "cell_type": "markdown",
   "metadata": {},
   "source": [
    "### $$x^3 - x^2 + x = e$$\n",
    "$$f(x) = x^3 - x^2 + x - e$$"
   ]
  },
  {
   "cell_type": "code",
   "execution_count": 16,
   "metadata": {},
   "outputs": [
    {
     "data": {
      "text/plain": [
       "1.519775390625"
      ]
     },
     "execution_count": 16,
     "metadata": {},
     "output_type": "execute_result"
    }
   ],
   "source": [
    "def f(x):\n",
    "    return x**3 - x**2 + x - e\n",
    "\n",
    "\n",
    "a = 0\n",
    "b = 3\n",
    "\n",
    "find_root_bisection(f, a, b)\n"
   ]
  }
 ],
 "metadata": {
  "kernelspec": {
   "display_name": "Python 3",
   "language": "python",
   "name": "python3"
  },
  "language_info": {
   "codemirror_mode": {
    "name": "ipython",
    "version": 3
   },
   "file_extension": ".py",
   "mimetype": "text/x-python",
   "name": "python",
   "nbconvert_exporter": "python",
   "pygments_lexer": "ipython3",
   "version": "3.10.8"
  },
  "orig_nbformat": 4,
  "vscode": {
   "interpreter": {
    "hash": "767d51c1340bd893661ea55ea3124f6de3c7a262a8b4abca0554b478b1e2ff90"
   }
  }
 },
 "nbformat": 4,
 "nbformat_minor": 2
}
