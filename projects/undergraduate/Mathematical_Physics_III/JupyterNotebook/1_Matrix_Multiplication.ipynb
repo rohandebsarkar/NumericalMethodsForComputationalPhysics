{
 "cells": [
  {
   "cell_type": "markdown",
   "id": "17ee2c32",
   "metadata": {},
   "source": [
    "# Matrix Multilpication"
   ]
  },
  {
   "cell_type": "markdown",
   "id": "a1a6afb4",
   "metadata": {},
   "source": [
    "If $A$ is a $m \\times n$ matrix and $B$ is a $n \\times p$ matrix. Then, matrix product $C_{m \\times p} = A_{m \\times n} \\cdot B_{n \\times p}$ is defined as,\n",
    "$$c_{ij} = \\sum_{k=1}^n a_{ik} + b_{kj}$$\n",
    "where, $a_{ij}$, $b_{ij}$, $c_{ij}$ represent individual elements of the matrices $A$, $B$, and $C$ respectively."
   ]
  },
  {
   "cell_type": "code",
   "execution_count": 1,
   "id": "1cf71772-c56a-49d4-979b-83347b22d2c0",
   "metadata": {},
   "outputs": [],
   "source": [
    "from numpy import array, zeros, random"
   ]
  },
  {
   "cell_type": "code",
   "execution_count": 2,
   "id": "8ccad515-12ff-4f19-b84b-78d5c12203d3",
   "metadata": {},
   "outputs": [],
   "source": [
    "# Code for performing matrix multiplication\n",
    "def matrix_multiply(A, B):\n",
    "    \n",
    "    # Checking if matrix multiplication is possible \n",
    "    if not A.shape[1] == B.shape[0]:\n",
    "        raise ValueError(\"Matrix multiplication not possible!\")\n",
    "  \n",
    "    # Decalring an empty matrix to store the result\n",
    "    C = zeros((A.shape[0], B.shape[1]))\n",
    "\n",
    "    # Performing matrix multiplication\n",
    "    for i in range(A.shape[0]):\n",
    "        for j in range(B.shape[1]):\n",
    "            for k in range(A.shape[1]):\n",
    "                C[i][j] += (A[i][k] * B[k][j])\n",
    "\n",
    "    return C"
   ]
  },
  {
   "cell_type": "markdown",
   "id": "920ae5c9-9fba-47e0-9f82-2705fdf3296a",
   "metadata": {},
   "source": [
    "## Examples"
   ]
  },
  {
   "cell_type": "markdown",
   "id": "488b4c77-da25-4ec5-b887-89f2bf1d235d",
   "metadata": {},
   "source": [
    "### $$\\begin{bmatrix} 1 & 2 & 3 \\\\ 4 & 5 & 6 \\\\ 7 & 8 & 9 \\end{bmatrix} \\times \\begin{bmatrix} 9 & 8 & 7 \\\\ 6 & 5 & 4 \\\\ 3 & 2 & 1 \\end{bmatrix}$$"
   ]
  },
  {
   "cell_type": "code",
   "execution_count": 3,
   "id": "62327257",
   "metadata": {},
   "outputs": [
    {
     "data": {
      "text/plain": [
       "array([[ 30.,  24.,  18.],\n",
       "       [ 84.,  69.,  54.],\n",
       "       [138., 114.,  90.]])"
      ]
     },
     "execution_count": 3,
     "metadata": {},
     "output_type": "execute_result"
    }
   ],
   "source": [
    "# Declaring two matrices `A` and `B`\n",
    "A = array([[1, 2, 3],\n",
    "           [4, 5, 6],\n",
    "           [7, 8, 9]])\n",
    "\n",
    "B = array([[9, 8, 7],\n",
    "           [6, 5, 4],\n",
    "           [3, 2, 1]])\n",
    "\n",
    "# Performing matrix multipliaction \n",
    "matrix_multiply(A, B)"
   ]
  },
  {
   "cell_type": "code",
   "execution_count": 4,
   "id": "fd41f5e2",
   "metadata": {
    "tags": []
   },
   "outputs": [
    {
     "data": {
      "text/plain": [
       "array([[30., 24.],\n",
       "       [84., 69.]])"
      ]
     },
     "execution_count": 4,
     "metadata": {},
     "output_type": "execute_result"
    }
   ],
   "source": [
    "# Declaring two non square matrices `A` and `B`\n",
    "A = array([[1, 2, 3],\n",
    "           [4, 5, 6]])\n",
    "\n",
    "B = array([[9, 8],\n",
    "           [6, 5],\n",
    "           [3, 2]])\n",
    "\n",
    "# Performing matrix multipliaction between two non square matrices\n",
    "matrix_multiply(A, B)"
   ]
  },
  {
   "cell_type": "markdown",
   "id": "2403309e-546d-4209-b8f0-9e985cba5a56",
   "metadata": {},
   "source": [
    "### Matrix multiplication using two randomly generated matrices"
   ]
  },
  {
   "cell_type": "code",
   "execution_count": 5,
   "id": "613f1684",
   "metadata": {
    "tags": []
   },
   "outputs": [],
   "source": [
    "# Generating two random matrices `A` and `B`\n",
    "A = random.randint(1, 100, (3, 3))\n",
    "B = random.randint(1, 100, (3, 3))"
   ]
  },
  {
   "cell_type": "code",
   "execution_count": 6,
   "id": "dc0fe0e2",
   "metadata": {},
   "outputs": [
    {
     "data": {
      "text/plain": [
       "array([[20, 61, 43],\n",
       "       [ 6, 75,  9],\n",
       "       [72, 73, 33]])"
      ]
     },
     "execution_count": 6,
     "metadata": {},
     "output_type": "execute_result"
    }
   ],
   "source": [
    "A"
   ]
  },
  {
   "cell_type": "code",
   "execution_count": 7,
   "id": "cdd1e750",
   "metadata": {},
   "outputs": [
    {
     "data": {
      "text/plain": [
       "array([[21, 48, 94],\n",
       "       [21, 22, 62],\n",
       "       [80, 40, 11]])"
      ]
     },
     "execution_count": 7,
     "metadata": {},
     "output_type": "execute_result"
    }
   ],
   "source": [
    "B"
   ]
  },
  {
   "cell_type": "code",
   "execution_count": 8,
   "id": "00819ecd",
   "metadata": {},
   "outputs": [
    {
     "data": {
      "text/plain": [
       "array([[ 5141.,  4022.,  6135.],\n",
       "       [ 2421.,  2298.,  5313.],\n",
       "       [ 5685.,  6382., 11657.]])"
      ]
     },
     "execution_count": 8,
     "metadata": {},
     "output_type": "execute_result"
    }
   ],
   "source": [
    "# Performing matrix multipliaction between two random matrices\n",
    "matrix_multiply(A, B)"
   ]
  }
 ],
 "metadata": {
  "kernelspec": {
   "display_name": "Python 3 (ipykernel)",
   "language": "python",
   "name": "python3"
  },
  "language_info": {
   "codemirror_mode": {
    "name": "ipython",
    "version": 3
   },
   "file_extension": ".py",
   "mimetype": "text/x-python",
   "name": "python",
   "nbconvert_exporter": "python",
   "pygments_lexer": "ipython3",
   "version": "3.10.8"
  }
 },
 "nbformat": 4,
 "nbformat_minor": 5
}
