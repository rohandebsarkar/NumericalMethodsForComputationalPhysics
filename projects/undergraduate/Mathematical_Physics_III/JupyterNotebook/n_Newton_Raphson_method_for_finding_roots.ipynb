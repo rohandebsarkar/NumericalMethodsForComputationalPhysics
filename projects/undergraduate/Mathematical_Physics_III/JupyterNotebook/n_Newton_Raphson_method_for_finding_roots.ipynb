{
 "cells": [
  {
   "cell_type": "markdown",
   "metadata": {},
   "source": [
    "# Newton-Raphson method for finding roots"
   ]
  },
  {
   "cell_type": "markdown",
   "metadata": {},
   "source": [
    "Newton-Raphson method is a root-finding algorithm to find the roots (i.e., the zeroes) of a real-valued function using numerical analysis. The Newton-Raphson method produces succesive better approximations of the root with each iteration of any real function.\n",
    "\n",
    "For finding the roots of a single-variable real-valued function $f(x)$ the algorithm requires the function itself, the derivative of the function $f'(x)$, and an initial guess $x_0$ for the root of $f$.\n",
    "\n",
    "![resources/newton-raphson-1.png](resources/newton-raphson-1.png)\n",
    "\n",
    "Using $f'(x)$ we first evaluate the tangent to the curve $f(x)$ at $x = x_0$. Then, our next guess $x_1$, becomes the intersection of this tangent at the $x-axis$. From the diagram above, the derivetive of $f(x)$ at $x = x_0$ will be given by,\n",
    "$$f'(x_0) = \\frac{f(x_0) - 0}{x_0 - x_1}$$\n",
    "\n",
    "Thus, the initial guess $x_1$ would be given by,\n",
    "$$x_1 = x_0 - \\frac{f(x_0)}{f'(x_0)}$$\n",
    "\n",
    "The next guess $x_2$ would be,\n",
    "$$x_2 = x_1 - \\frac{f(x_1)}{f'(x_1)}$$\n",
    "\n",
    "This process is to be repeated again and again until a guess close enough to the actual root is attained.\n",
    "\n",
    "Therefore, the generic form of the $nth$ guess for the root would be,\n",
    "$$x_n = x_{n-1} - \\frac{f(x_{n-1})}{f'(x_{n-1})}$$"
   ]
  },
  {
   "cell_type": "markdown",
   "metadata": {},
   "source": [
    "## Code"
   ]
  },
  {
   "cell_type": "code",
   "execution_count": 1,
   "metadata": {},
   "outputs": [],
   "source": [
    "from numpy import cos, e, linspace, pi, sin\n",
    "from matplotlib import pyplot as plt\n",
    "\n",
    "# Default configuaration for matplotlib\n",
    "plt.rcParams[\"figure.figsize\"] = (16, 8)"
   ]
  },
  {
   "cell_type": "code",
   "execution_count": 2,
   "metadata": {
    "tags": []
   },
   "outputs": [],
   "source": [
    "def find_root_newton(f, f_prime, x_0, tolerance):\n",
    "\n",
    "    # Declaring a variable to store the guesses\n",
    "    # And Initialising it with the first guess\n",
    "    x_1 = x_0 - (f(x_0) / f_prime(x_0))\n",
    "\n",
    "    # Evaluating the guess\n",
    "    while abs(x_1 - x_0) > tolerance:\n",
    "\n",
    "        # Updating the previous guess with the current guess\n",
    "        x_0 = x_1\n",
    "\n",
    "        # Evaluating the current guess\n",
    "        x_1 = x_0 - (f(x_0) / f_prime(x_0))\n",
    "\n",
    "    return x_1\n"
   ]
  },
  {
   "cell_type": "markdown",
   "metadata": {},
   "source": [
    "## Examples"
   ]
  },
  {
   "cell_type": "markdown",
   "metadata": {},
   "source": [
    "### $$x^2 = 2$$\n",
    "$$f(x) = x^2 - 2$$\n",
    "$$f'(x) = 2x$$"
   ]
  },
  {
   "cell_type": "code",
   "execution_count": 3,
   "metadata": {},
   "outputs": [],
   "source": [
    "f = lambda x: x**2 - 2\n",
    "f_prime = lambda x: 2 * x\n",
    "x_0 = pi\n",
    "tolerance = 0.001"
   ]
  },
  {
   "cell_type": "code",
   "execution_count": 4,
   "metadata": {
    "tags": []
   },
   "outputs": [
    {
     "data": {
      "text/plain": [
       "1.414213562373189"
      ]
     },
     "execution_count": 4,
     "metadata": {},
     "output_type": "execute_result"
    }
   ],
   "source": [
    "find_root_newton(f, f_prime, x_0, tolerance)"
   ]
  },
  {
   "cell_type": "markdown",
   "metadata": {},
   "source": [
    "### $$x^3 - x^2 + x = e$$\n",
    "$$f(x) = x^3 - x^2 + x - e$$\n",
    "$$f'(x) = 3x^2 - 2x + 1$$"
   ]
  },
  {
   "cell_type": "code",
   "execution_count": 5,
   "metadata": {},
   "outputs": [],
   "source": [
    "f = lambda x: x**3 - x**2 + x - e\n",
    "f_prime = lambda x: 3 * x**2 - 2 * x + 1\n",
    "x_0 = 0\n",
    "tolerance = 0.001"
   ]
  },
  {
   "cell_type": "code",
   "execution_count": 6,
   "metadata": {
    "tags": []
   },
   "outputs": [
    {
     "data": {
      "text/plain": [
       "1.5193605629027016"
      ]
     },
     "execution_count": 6,
     "metadata": {},
     "output_type": "execute_result"
    }
   ],
   "source": [
    "find_root_newton(f, f_prime, x_0, tolerance)"
   ]
  },
  {
   "cell_type": "markdown",
   "metadata": {},
   "source": [
    "### $$xsin(x) = x$$\n",
    "$$f(x) = xsin(x) - x$$\n",
    "$$f'(x) = sin(x) + xcos(x) - 1$$"
   ]
  },
  {
   "cell_type": "code",
   "execution_count": 7,
   "metadata": {},
   "outputs": [],
   "source": [
    "f = lambda x: x * sin(x) - x\n",
    "f_prime = lambda x: sin(x) + x * cos(x) - 1\n",
    "x_0 = 3 * pi / 2\n",
    "tolerance = 0.001"
   ]
  },
  {
   "cell_type": "code",
   "execution_count": 8,
   "metadata": {},
   "outputs": [
    {
     "data": {
      "text/plain": [
       "-3.1554436208840472e-30"
      ]
     },
     "execution_count": 8,
     "metadata": {},
     "output_type": "execute_result"
    }
   ],
   "source": [
    "find_root_newton(f, f_prime, x_0, tolerance)"
   ]
  }
 ],
 "metadata": {
  "kernelspec": {
   "display_name": "Python 3",
   "language": "python",
   "name": "python3"
  },
  "language_info": {
   "codemirror_mode": {
    "name": "ipython",
    "version": 3
   },
   "file_extension": ".py",
   "mimetype": "text/x-python",
   "name": "python",
   "nbconvert_exporter": "python",
   "pygments_lexer": "ipython3",
   "version": "3.10.8"
  },
  "vscode": {
   "interpreter": {
    "hash": "767d51c1340bd893661ea55ea3124f6de3c7a262a8b4abca0554b478b1e2ff90"
   }
  }
 },
 "nbformat": 4,
 "nbformat_minor": 4
}
