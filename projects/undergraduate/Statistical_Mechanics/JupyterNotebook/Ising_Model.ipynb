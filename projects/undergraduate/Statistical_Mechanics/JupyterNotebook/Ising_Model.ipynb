{
 "cells": [
  {
   "cell_type": "code",
   "execution_count": 1,
   "metadata": {},
   "outputs": [],
   "source": [
    "import numpy as np\n",
    "from itertools import product\n",
    "import pandas as pd\n",
    "\n",
    "np.set_printoptions(formatter={'int': '{:+}'.format})"
   ]
  },
  {
   "cell_type": "code",
   "execution_count": 2,
   "metadata": {},
   "outputs": [],
   "source": [
    "k = 1"
   ]
  },
  {
   "cell_type": "code",
   "execution_count": 3,
   "metadata": {},
   "outputs": [],
   "source": [
    "def energy(config):\n",
    "    H = 0\n",
    "    for i in range(len(config)):\n",
    "        H += config[i-1] * config[i]\n",
    "\n",
    "    return -H"
   ]
  },
  {
   "cell_type": "code",
   "execution_count": 4,
   "metadata": {},
   "outputs": [],
   "source": [
    "def partition_function(configuarations, T):\n",
    "    Z = 0\n",
    "    for config in configuarations:\n",
    "        Z += np.exp(- energy(config) / (k * T))\n",
    "    \n",
    "    return Z"
   ]
  },
  {
   "cell_type": "code",
   "execution_count": 5,
   "metadata": {},
   "outputs": [],
   "source": [
    "def config_probabilities(configuarations, T):\n",
    "    Z = partition_function(configuarations, T)\n",
    "\n",
    "    probabilities = np.empty(len(configuarations))\n",
    "    for config in configuarations:\n",
    "        probabilities[i] = np.exp(- energy(config) / (k *T)) / Z\n",
    "\n",
    "    return probabilities"
   ]
  },
  {
   "cell_type": "code",
   "execution_count": 6,
   "metadata": {},
   "outputs": [],
   "source": [
    "def average_energy(configuarations, T):\n",
    "    probabilities = config_probabilities(configuarations, T)\n",
    "    \n",
    "    E = 0\n",
    "    for i in range(len(configuarations)):\n",
    "         E += energy(configuarations[i]) * probabilities[i]\n",
    "    \n",
    "    return E"
   ]
  },
  {
   "cell_type": "code",
   "execution_count": 7,
   "metadata": {},
   "outputs": [],
   "source": [
    "def absolute_magnetisation(configuarations):\n",
    "    M = np.empty(len(configuarations))\n",
    "\n",
    "    for i in range(len(configuarations)):\n",
    "        M[i] = np.sum(configuarations[i]) / len(configuarations)\n",
    "    \n",
    "    return M"
   ]
  },
  {
   "cell_type": "code",
   "execution_count": 8,
   "metadata": {},
   "outputs": [],
   "source": [
    "possible_spins = [+1, -1]\n",
    "lattice_points = 4\n",
    "\n",
    "configuarations = np.array(list(product(possible_spins, repeat=lattice_points)))"
   ]
  },
  {
   "cell_type": "code",
   "execution_count": 9,
   "metadata": {},
   "outputs": [
    {
     "name": "stdout",
     "output_type": "stream",
     "text": [
      "[+1 +1 +1 +1] \t -4\n",
      "[+1 +1 +1 -1] \t 0\n",
      "[+1 +1 -1 +1] \t 0\n",
      "[+1 +1 -1 -1] \t 0\n",
      "[+1 -1 +1 +1] \t 0\n",
      "[+1 -1 +1 -1] \t 4\n",
      "[+1 -1 -1 +1] \t 0\n",
      "[+1 -1 -1 -1] \t 0\n",
      "[-1 +1 +1 +1] \t 0\n",
      "[-1 +1 +1 -1] \t 0\n",
      "[-1 +1 -1 +1] \t 4\n",
      "[-1 +1 -1 -1] \t 0\n",
      "[-1 -1 +1 +1] \t 0\n",
      "[-1 -1 +1 -1] \t 0\n",
      "[-1 -1 -1 +1] \t 0\n",
      "[-1 -1 -1 -1] \t -4\n"
     ]
    }
   ],
   "source": [
    "for i in range(len(configuarations)):\n",
    "    print(configuarations[i], \"\\t\", energy(configuarations[i]))"
   ]
  },
  {
   "cell_type": "code",
   "execution_count": 10,
   "metadata": {},
   "outputs": [
    {
     "name": "stdout",
     "output_type": "stream",
     "text": [
      "1.0442939379528289e+174\n"
     ]
    }
   ],
   "source": [
    "T = 0.01\n",
    "\n",
    "print(partition_function(configuarations, T))"
   ]
  },
  {
   "cell_type": "code",
   "execution_count": 11,
   "metadata": {},
   "outputs": [
    {
     "name": "stdout",
     "output_type": "stream",
     "text": [
      "[+1 +1 +1 +1] \t 4.9695046796555e-310\n",
      "[+1 +1 +1 -1] \t 0.0\n",
      "[+1 +1 -1 +1] \t 2.41907520228e-312\n",
      "[+1 +1 -1 -1] \t 2.143215749364e-312\n",
      "[+1 -1 +1 +1] \t 2.46151511768e-312\n",
      "[+1 -1 +1 -1] \t 2.31297541265e-312\n",
      "[+1 -1 -1 +1] \t 2.355415328525e-312\n",
      "[+1 -1 -1 -1] \t 2.0583359178e-312\n",
      "[-1 +1 +1 +1] \t 2.228095581077e-312\n",
      "[-1 +1 +1 -1] \t 2.5676149076e-312\n",
      "[-1 +1 -1 +1] \t 2.482735075587e-312\n",
      "[-1 +1 -1 -1] \t 2.05833591778e-312\n",
      "[-1 -1 +1 +1] \t 2.05833591782e-312\n",
      "[-1 -1 +1 -1] \t 2.29175545476e-312\n",
      "[-1 -1 -1 +1] \t 2.079555875625e-312\n",
      "[-1 -1 -1 -1] \t 0.5\n"
     ]
    }
   ],
   "source": [
    "probabilities = config_probabilities(configuarations, T)\n",
    "\n",
    "for i in range(len(configuarations)):\n",
    "    print(configuarations[i], \"\\t\", probabilities[i])"
   ]
  },
  {
   "cell_type": "code",
   "execution_count": null,
   "metadata": {},
   "outputs": [],
   "source": []
  }
 ],
 "metadata": {
  "kernelspec": {
   "display_name": "Python 3",
   "language": "python",
   "name": "python3"
  },
  "language_info": {
   "codemirror_mode": {
    "name": "ipython",
    "version": 3
   },
   "file_extension": ".py",
   "mimetype": "text/x-python",
   "name": "python",
   "nbconvert_exporter": "python",
   "pygments_lexer": "ipython3",
   "version": "3.11.8"
  }
 },
 "nbformat": 4,
 "nbformat_minor": 2
}
