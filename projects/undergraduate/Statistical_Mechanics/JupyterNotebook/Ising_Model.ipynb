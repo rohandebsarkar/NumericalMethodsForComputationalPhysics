{
 "cells": [
  {
   "cell_type": "code",
   "execution_count": 10,
   "metadata": {},
   "outputs": [],
   "source": [
    "import numpy as np\n",
    "from itertools import product\n",
    "from matplotlib import pyplot as plt\n",
    "\n",
    "np.set_printoptions(formatter={\"int\": \"{:+}\".format})\n",
    "\n",
    "k = 1"
   ]
  },
  {
   "cell_type": "code",
   "execution_count": 2,
   "metadata": {},
   "outputs": [
    {
     "name": "stdout",
     "output_type": "stream",
     "text": [
      "[+1 +1 +1 +1]\n",
      "[+1 +1 +1 -1]\n",
      "[+1 +1 -1 +1]\n",
      "[+1 +1 -1 -1]\n",
      "[+1 -1 +1 +1]\n",
      "[+1 -1 +1 -1]\n",
      "[+1 -1 -1 +1]\n",
      "[+1 -1 -1 -1]\n",
      "[-1 +1 +1 +1]\n",
      "[-1 +1 +1 -1]\n",
      "[-1 +1 -1 +1]\n",
      "[-1 +1 -1 -1]\n",
      "[-1 -1 +1 +1]\n",
      "[-1 -1 +1 -1]\n",
      "[-1 -1 -1 +1]\n",
      "[-1 -1 -1 -1]\n"
     ]
    }
   ],
   "source": [
    "possible_spins = [+1, -1]\n",
    "lattice_points = 4\n",
    "\n",
    "T = 0.1\n",
    "J = 1\n",
    "h = 0.1\n",
    "\n",
    "configuarations = np.array(list(product(possible_spins, repeat=lattice_points)))\n",
    "\n",
    "for i in range(len(configuarations)):\n",
    "    print(configuarations[i])"
   ]
  },
  {
   "cell_type": "code",
   "execution_count": 3,
   "metadata": {},
   "outputs": [
    {
     "name": "stdout",
     "output_type": "stream",
     "text": [
      "[+1 +1 +1 +1] \t -4.4\n",
      "[+1 +1 +1 -1] \t -0.20000000000000018\n",
      "[+1 +1 -1 +1] \t -0.20000000000000007\n",
      "[+1 +1 -1 -1] \t 0.0\n",
      "[+1 -1 +1 +1] \t -0.20000000000000007\n",
      "[+1 -1 +1 -1] \t 4.0\n",
      "[+1 -1 -1 +1] \t 0.0\n",
      "[+1 -1 -1 -1] \t 0.20000000000000007\n",
      "[-1 +1 +1 +1] \t -0.20000000000000018\n",
      "[-1 +1 +1 -1] \t 0.0\n",
      "[-1 +1 -1 +1] \t 4.0\n",
      "[-1 +1 -1 -1] \t 0.20000000000000007\n",
      "[-1 -1 +1 +1] \t 0.0\n",
      "[-1 -1 +1 -1] \t 0.20000000000000007\n",
      "[-1 -1 -1 +1] \t 0.20000000000000007\n",
      "[-1 -1 -1 -1] \t -3.6\n"
     ]
    }
   ],
   "source": [
    "def absolute_energy(configuarations, J, h):\n",
    "    H = np.zeros(len(configuarations))\n",
    "\n",
    "    for i in range(len(configuarations)):\n",
    "        for j in range(len(configuarations[i])):\n",
    "            H[i] -= (\n",
    "                J * configuarations[i][j - 1] * configuarations[i][j]\n",
    "                + h * configuarations[i][j]\n",
    "            )\n",
    "\n",
    "    return H\n",
    "\n",
    "\n",
    "energy = absolute_energy(configuarations, J, h)\n",
    "\n",
    "for i in range(len(configuarations)):\n",
    "    print(configuarations[i], \"\\t\", energy[i])"
   ]
  },
  {
   "cell_type": "code",
   "execution_count": 4,
   "metadata": {},
   "outputs": [
    {
     "name": "stdout",
     "output_type": "stream",
     "text": [
      "Partition Function: 1.2855911345906424e+19\n"
     ]
    }
   ],
   "source": [
    "def partition_function(configuarations, T):\n",
    "    energy = absolute_energy(configuarations, J, h)\n",
    "\n",
    "    Z = 0\n",
    "    for i in range(len(configuarations)):\n",
    "        Z += np.exp(-energy[i] / (k * T))\n",
    "\n",
    "    return Z\n",
    "\n",
    "\n",
    "print(\"Partition Function:\", partition_function(configuarations, T))"
   ]
  },
  {
   "cell_type": "code",
   "execution_count": 5,
   "metadata": {},
   "outputs": [
    {
     "name": "stdout",
     "output_type": "stream",
     "text": [
      "[+1 +1 +1 +1] \t 0.9996646498695335\n",
      "[+1 +1 +1 -1] \t 5.747594161252119e-19\n",
      "[+1 +1 -1 +1] \t 5.747594161252111e-19\n",
      "[+1 +1 -1 -1] \t 7.778522837421555e-20\n",
      "[+1 -1 +1 +1] \t 5.747594161252111e-19\n",
      "[+1 -1 +1 -1] \t 3.304592059624267e-37\n",
      "[+1 -1 -1 +1] \t 7.778522837421555e-20\n",
      "[+1 -1 -1 -1] \t 1.0527085913649059e-20\n",
      "[-1 +1 +1 +1] \t 5.747594161252119e-19\n",
      "[-1 +1 +1 -1] \t 7.778522837421555e-20\n",
      "[-1 +1 -1 +1] \t 3.304592059624267e-37\n",
      "[-1 +1 -1 -1] \t 1.0527085913649059e-20\n",
      "[-1 -1 +1 +1] \t 7.778522837421555e-20\n",
      "[-1 -1 +1 -1] \t 1.0527085913649059e-20\n",
      "[-1 -1 -1 +1] \t 1.0527085913649059e-20\n",
      "[-1 -1 -1 -1] \t 0.00033535013046647805\n"
     ]
    }
   ],
   "source": [
    "def configuaration_probabilities(configuarations, T):\n",
    "    energy = absolute_energy(configuarations, J, h)\n",
    "    Z = partition_function(configuarations, T)\n",
    "\n",
    "    probabilities = np.empty(len(configuarations))\n",
    "    for i in range(len(configuarations)):\n",
    "        probabilities[i] = np.exp(-energy[i] / (k * T)) / Z\n",
    "\n",
    "    return probabilities\n",
    "\n",
    "\n",
    "probabilities = configuaration_probabilities(configuarations, T)\n",
    "\n",
    "for i in range(len(configuarations)):\n",
    "    print(configuarations[i], \"\\t\", probabilities[i])"
   ]
  },
  {
   "cell_type": "code",
   "execution_count": 6,
   "metadata": {},
   "outputs": [
    {
     "name": "stdout",
     "output_type": "stream",
     "text": [
      "Average Energy: -4.399731719895628\n"
     ]
    }
   ],
   "source": [
    "def average_energy(configuarations, T):\n",
    "    energy = absolute_energy(configuarations, J, h)\n",
    "    probabilities = configuaration_probabilities(configuarations, T)\n",
    "\n",
    "    E = 0\n",
    "    for i in range(len(configuarations)):\n",
    "        E += energy[i] * probabilities[i]\n",
    "\n",
    "    return E\n",
    "\n",
    "\n",
    "print(\"Average Energy:\", average_energy(configuarations, T))"
   ]
  },
  {
   "cell_type": "code",
   "execution_count": 7,
   "metadata": {},
   "outputs": [
    {
     "name": "stdout",
     "output_type": "stream",
     "text": [
      "[+1 +1 +1 +1] \t 0.25\n",
      "[+1 +1 +1 -1] \t 0.125\n",
      "[+1 +1 -1 +1] \t 0.125\n",
      "[+1 +1 -1 -1] \t 0.0\n",
      "[+1 -1 +1 +1] \t 0.125\n",
      "[+1 -1 +1 -1] \t 0.0\n",
      "[+1 -1 -1 +1] \t 0.0\n",
      "[+1 -1 -1 -1] \t -0.125\n",
      "[-1 +1 +1 +1] \t 0.125\n",
      "[-1 +1 +1 -1] \t 0.0\n",
      "[-1 +1 -1 +1] \t 0.0\n",
      "[-1 +1 -1 -1] \t -0.125\n",
      "[-1 -1 +1 +1] \t 0.0\n",
      "[-1 -1 +1 -1] \t -0.125\n",
      "[-1 -1 -1 +1] \t -0.125\n",
      "[-1 -1 -1 -1] \t -0.25\n"
     ]
    }
   ],
   "source": [
    "def absolute_magnetisation(configuarations):\n",
    "    M = np.empty(len(configuarations))\n",
    "\n",
    "    for i in range(len(configuarations)):\n",
    "        M[i] = np.sum(configuarations[i]) / len(configuarations)\n",
    "\n",
    "    return M\n",
    "\n",
    "\n",
    "M = absolute_magnetisation(configuarations)\n",
    "\n",
    "for i in range(len(configuarations)):\n",
    "    print(configuarations[i], \"\\t\", M[i])"
   ]
  },
  {
   "cell_type": "code",
   "execution_count": 8,
   "metadata": {},
   "outputs": [
    {
     "name": "stdout",
     "output_type": "stream",
     "text": [
      "Average Magnetisation: 0.24983232493476676\n"
     ]
    }
   ],
   "source": [
    "def average_magnetisation(configuarations, T):\n",
    "    magnetisation = absolute_magnetisation(configuarations)\n",
    "    probabilities = configuaration_probabilities(configuarations, T)\n",
    "\n",
    "    M = 0\n",
    "    for i in range(len(configuarations)):\n",
    "        M += magnetisation[i] * probabilities[i]\n",
    "\n",
    "    return M\n",
    "\n",
    "\n",
    "print(\"Average Magnetisation:\", average_magnetisation(configuarations, T))"
   ]
  },
  {
   "cell_type": "code",
   "execution_count": 20,
   "metadata": {},
   "outputs": [
    {
     "data": {
      "image/png": "[encoded data removed]",
      "text/plain": [
       "<Figure size 640x480 with 1 Axes>"
      ]
     },
     "metadata": {},
     "output_type": "display_data"
    }
   ],
   "source": [
    "T_i = 0.01\n",
    "T_f = 3\n",
    "\n",
    "T = np.linspace(T_i, T_f, 10)\n",
    "E = np.empty(len(T))\n",
    "\n",
    "for i in range(len(T)):\n",
    "    E[i] = average_energy(configuarations, T[i])\n",
    "\n",
    "plt.plot(T, E)\n",
    "plt.show()"
   ]
  },
  {
   "cell_type": "code",
   "execution_count": 19,
   "metadata": {},
   "outputs": [
    {
     "data": {
      "image/png": "[encoded data removed]",
      "text/plain": [
       "<Figure size 640x480 with 1 Axes>"
      ]
     },
     "metadata": {},
     "output_type": "display_data"
    }
   ],
   "source": [
    "M = np.empty(len(T))\n",
    "\n",
    "for i in range(len(T)):\n",
    "    M[i] = average_magnetisation(configuarations, T[i])\n",
    "\n",
    "plt.plot(T, M)\n",
    "plt.show()"
   ]
  },
  {
   "cell_type": "code",
   "execution_count": null,
   "metadata": {},
   "outputs": [],
   "source": []
  }
 ],
 "metadata": {
  "kernelspec": {
   "display_name": "Python 3",
   "language": "python",
   "name": "python3"
  },
  "language_info": {
   "codemirror_mode": {
    "name": "ipython",
    "version": 3
   },
   "file_extension": ".py",
   "mimetype": "text/x-python",
   "name": "python",
   "nbconvert_exporter": "python",
   "pygments_lexer": "ipython3",
   "version": "3.12.2"
  }
 },
 "nbformat": 4,
 "nbformat_minor": 2
}
